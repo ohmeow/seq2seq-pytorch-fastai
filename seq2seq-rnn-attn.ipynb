{
 "cells": [
  {
   "cell_type": "code",
   "execution_count": 1,
   "metadata": {},
   "outputs": [],
   "source": [
    "import pdb\n",
    "from fastai.text import *"
   ]
  },
  {
   "cell_type": "code",
   "execution_count": 2,
   "metadata": {},
   "outputs": [
    {
     "name": "stdout",
     "output_type": "stream",
     "text": [
         "fastai version: 1.0.53.dev\n"
     ]
    }
   ],
   "source": [
    "print(f'fastai version: {__version__}')"
   ]
  },
  {
   "cell_type": "code",
   "execution_count": 3,
   "metadata": {},
   "outputs": [],
   "source": [
    "torch.cuda.set_device(1)"
   ]
  },
  {
   "cell_type": "code",
   "execution_count": 4,
   "metadata": {},
   "outputs": [
    {
     "data": {
      "text/plain": [
       "[PosixPath('/home/wgilliam/.fastai/data/giga-fren/giga-fren.release2.fixed.fr'),\n",
       " PosixPath('/home/wgilliam/.fastai/data/giga-fren/giga-fren.release2.fixed.en')]"
      ]
     },
     "execution_count": 4,
     "metadata": {},
     "output_type": "execute_result"
    }
   ],
   "source": [
    "PATH = Path('data/translate')\n",
    "PATH.mkdir(parents=True, exist_ok=True)\n",
    "\n",
    "DATA_PATH = untar_data(URLs.MT_ENG_FRA)\n",
    "DATA_PATH.ls()"
   ]
  },
  {
   "cell_type": "code",
   "execution_count": 5,
   "metadata": {},
   "outputs": [],
   "source": [
    "folder = 'giga-fren.release2.fixed'\n",
    "en_folder = DATA_PATH/f'{folder}.en'\n",
    "fr_folder = DATA_PATH/f'{folder}.fr'"
   ]
  },
  {
   "cell_type": "markdown",
   "metadata": {},
   "source": [
    "## Prepare data\n",
    "\n",
    "*only need to run through the section 1x to build the .csv file*"
   ]
  },
  {
   "cell_type": "code",
   "execution_count": null,
   "metadata": {},
   "outputs": [],
   "source": [
    "re_eq = re.compile('^(Wh[^?.!]+\\?)')\n",
    "re_fq = re.compile('^([^?.!]+\\?)')\n",
    "\n",
    "lines = ((re_eq.search(eq), re_fq.search(fq)) \n",
    "          for eq, fq in zip(open(en_folder, encoding='utf-8'), open(fr_folder, encoding='utf-8')))\n",
    "\n",
    "qs = [ {'english_text': e.group(), 'french_text': f.group()} for e, f in lines if e and f ]"
   ]
  },
  {
   "cell_type": "code",
   "execution_count": null,
   "metadata": {},
   "outputs": [],
   "source": [
    "qs[:5]"
   ]
  },
  {
   "cell_type": "code",
   "execution_count": null,
   "metadata": {},
   "outputs": [],
   "source": [
    "df = pd.DataFrame(qs)\n",
    "df.head()"
   ]
  },
  {
   "cell_type": "code",
   "execution_count": null,
   "metadata": {},
   "outputs": [],
   "source": [
    "df.to_csv(PATH/'english_french_translate.csv', index=False)"
   ]
  },
  {
   "cell_type": "markdown",
   "metadata": {},
   "source": [
    "## Prepare data for training"
   ]
  },
  {
   "cell_type": "code",
   "execution_count": 6,
   "metadata": {},
   "outputs": [],
   "source": [
    "np.random.seed(42)"
   ]
  },
  {
   "cell_type": "code",
   "execution_count": 7,
   "metadata": {},
   "outputs": [
    {
     "name": "stdout",
     "output_type": "stream",
     "text": [
      "52331\n"
     ]
    },
    {
     "data": {
      "text/html": [
       "<div>\n",
       "<style scoped>\n",
       "    .dataframe tbody tr th:only-of-type {\n",
       "        vertical-align: middle;\n",
       "    }\n",
       "\n",
       "    .dataframe tbody tr th {\n",
       "        vertical-align: top;\n",
       "    }\n",
       "\n",
       "    .dataframe thead th {\n",
       "        text-align: right;\n",
       "    }\n",
       "</style>\n",
       "<table border=\"1\" class=\"dataframe\">\n",
       "  <thead>\n",
       "    <tr style=\"text-align: right;\">\n",
       "      <th></th>\n",
       "      <th>english_text</th>\n",
       "      <th>french_text</th>\n",
       "    </tr>\n",
       "  </thead>\n",
       "  <tbody>\n",
       "    <tr>\n",
       "      <th>0</th>\n",
       "      <td>What is light ?</td>\n",
       "      <td>Qu’est-ce que la lumière?</td>\n",
       "    </tr>\n",
       "    <tr>\n",
       "      <th>1</th>\n",
       "      <td>Who are we?</td>\n",
       "      <td>Où sommes-nous?</td>\n",
       "    </tr>\n",
       "    <tr>\n",
       "      <th>2</th>\n",
       "      <td>Where did we come from?</td>\n",
       "      <td>D'où venons-nous?</td>\n",
       "    </tr>\n",
       "    <tr>\n",
       "      <th>3</th>\n",
       "      <td>What would we do without it?</td>\n",
       "      <td>Que ferions-nous sans elle ?</td>\n",
       "    </tr>\n",
       "    <tr>\n",
       "      <th>4</th>\n",
       "      <td>What is the absolute location (latitude and lo...</td>\n",
       "      <td>Quelle sont les coordonnées (latitude et longi...</td>\n",
       "    </tr>\n",
       "  </tbody>\n",
       "</table>\n",
       "</div>"
      ],
      "text/plain": [
       "                                        english_text  \\\n",
       "0                                    What is light ?   \n",
       "1                                        Who are we?   \n",
       "2                            Where did we come from?   \n",
       "3                       What would we do without it?   \n",
       "4  What is the absolute location (latitude and lo...   \n",
       "\n",
       "                                         french_text  \n",
       "0                          Qu’est-ce que la lumière?  \n",
       "1                                    Où sommes-nous?  \n",
       "2                                  D'où venons-nous?  \n",
       "3                       Que ferions-nous sans elle ?  \n",
       "4  Quelle sont les coordonnées (latitude et longi...  "
      ]
     },
     "metadata": {},
     "output_type": "display_data"
    }
   ],
   "source": [
    "df = pd.read_csv(PATH/'english_french_translate.csv')\n",
    "\n",
    "print(len(df))\n",
    "display(df.head())"
   ]
  },
  {
   "cell_type": "markdown",
   "metadata": {},
   "source": [
    "**Why am I restricting my datasets to the mean length of French or corresponding English translation?**\n",
    "\n",
    "Including the longer documents tend to require much more training, consume more memory, and don't necessarily work all that great for models such as we're building here."
   ]
  },
  {
   "cell_type": "code",
   "execution_count": 8,
   "metadata": {},
   "outputs": [],
   "source": [
    "MAX_SEQ_LEN = np.max([df.english_text.str.len().mean(), df.french_text.str.len().mean()])"
   ]
  },
  {
   "cell_type": "code",
   "execution_count": 9,
   "metadata": {},
   "outputs": [
    {
     "data": {
      "text/html": [
       "<div>\n",
       "<style scoped>\n",
       "    .dataframe tbody tr th:only-of-type {\n",
       "        vertical-align: middle;\n",
       "    }\n",
       "\n",
       "    .dataframe tbody tr th {\n",
       "        vertical-align: top;\n",
       "    }\n",
       "\n",
       "    .dataframe thead th {\n",
       "        text-align: right;\n",
       "    }\n",
       "</style>\n",
       "<table border=\"1\" class=\"dataframe\">\n",
       "  <thead>\n",
       "    <tr style=\"text-align: right;\">\n",
       "      <th></th>\n",
       "      <th>english_text</th>\n",
       "      <th>french_text</th>\n",
       "    </tr>\n",
       "  </thead>\n",
       "  <tbody>\n",
       "    <tr>\n",
       "      <th>0</th>\n",
       "      <td>What is light ?</td>\n",
       "      <td>Qu’est-ce que la lumière?</td>\n",
       "    </tr>\n",
       "    <tr>\n",
       "      <th>1</th>\n",
       "      <td>Who are we?</td>\n",
       "      <td>Où sommes-nous?</td>\n",
       "    </tr>\n",
       "    <tr>\n",
       "      <th>2</th>\n",
       "      <td>Where did we come from?</td>\n",
       "      <td>D'où venons-nous?</td>\n",
       "    </tr>\n",
       "    <tr>\n",
       "      <th>3</th>\n",
       "      <td>What would we do without it?</td>\n",
       "      <td>Que ferions-nous sans elle ?</td>\n",
       "    </tr>\n",
       "    <tr>\n",
       "      <th>4</th>\n",
       "      <td>What is the major aboriginal group on Vancouve...</td>\n",
       "      <td>Quel est le groupe autochtone principal sur l’...</td>\n",
       "    </tr>\n",
       "  </tbody>\n",
       "</table>\n",
       "</div>"
      ],
      "text/plain": [
       "                                        english_text  \\\n",
       "0                                    What is light ?   \n",
       "1                                        Who are we?   \n",
       "2                            Where did we come from?   \n",
       "3                       What would we do without it?   \n",
       "4  What is the major aboriginal group on Vancouve...   \n",
       "\n",
       "                                         french_text  \n",
       "0                          Qu’est-ce que la lumière?  \n",
       "1                                    Où sommes-nous?  \n",
       "2                                  D'où venons-nous?  \n",
       "3                       Que ferions-nous sans elle ?  \n",
       "4  Quel est le groupe autochtone principal sur l’...  "
      ]
     },
     "execution_count": 9,
     "metadata": {},
     "output_type": "execute_result"
    }
   ],
   "source": [
    "df = df.loc[(df.english_text.str.len() < MAX_SEQ_LEN) & (df.french_text.str.len() < MAX_SEQ_LEN)]\n",
    "df.reset_index(inplace=True, drop=True)\n",
    "df.head()"
   ]
  },
  {
   "cell_type": "code",
   "execution_count": 10,
   "metadata": {},
   "outputs": [
    {
     "data": {
      "text/plain": [
       "(25522, 6381)"
      ]
     },
     "execution_count": 10,
     "metadata": {},
     "output_type": "execute_result"
    }
   ],
   "source": [
    "train_df = df.sample(frac=0.8, random_state=42)\n",
    "valid_df = df.iloc[~df.index.isin(train_df.index)]\n",
    "len(train_df), len(valid_df)"
   ]
  },
  {
   "cell_type": "markdown",
   "metadata": {},
   "source": [
    "### Custom DataBlock API code"
   ]
  },
  {
   "cell_type": "markdown",
   "metadata": {},
   "source": [
    "**Why am I creating my own collate function?**\n",
    "\n",
    "Two reasons. First, I want to be able to pad both the inputs and targets (the default `pad_collate` function for `TextList` instances only takes are of the inputs).  Second, I wanted to set things up so I could include my targets in training for \"teacher forcing\" as well as the actual, non-padded, lenghts of each document along with their corresponding masks for masking.\n",
    "\n",
    "Writing your own `collate_fn` is a nice way to pass in whatever you need/want to your model's `forward()` function."
   ]
  },
  {
   "cell_type": "code",
   "execution_count": 11,
   "metadata": {},
   "outputs": [],
   "source": [
    "def seq2seq_pad_collate(samples:BatchSamples, pad_idx:int=1, pad_first:bool=False, \n",
    "                        include_targets=True, include_lengths=True, include_masks=True,\n",
    "                        backwards:bool=False) -> Tuple[LongTensor, LongTensor]:\n",
    "    \n",
    "    \"Function that collect samples and adds padding. Flips token order if needed\"\n",
    "    \n",
    "    samples = to_data(samples)\n",
    "    samples.sort(key=lambda x: len(x[0]), reverse=True)\n",
    "    \n",
    "    x_lens = [len(s[0]) for s in samples]\n",
    "    x_max_len = max(x_lens)\n",
    "    x_res = torch.zeros(len(samples), x_max_len).long() + pad_idx\n",
    "    \n",
    "    y_lens = [len(s[1]) for s in samples]\n",
    "    y_max_len = max(y_lens)\n",
    "    y_res = torch.zeros(len(samples), y_max_len).long() + pad_idx\n",
    "    \n",
    "    if backwards: pad_first = not pad_first\n",
    "        \n",
    "    for i,s in enumerate(samples):\n",
    "        if pad_first: \n",
    "            x_res[i,-len(s[0]):] = LongTensor(s[0])\n",
    "            y_res[i,-len(s[1]):] = LongTensor(s[1])\n",
    "        else:         \n",
    "            x_res[i,:len(s[0]):] = LongTensor(s[0])\n",
    "            y_res[i,:len(s[1]):] = LongTensor(s[1])\n",
    "            \n",
    "    if backwards: res = res.flip(1)\n",
    "        \n",
    "    x = [x_res]\n",
    "    if (include_targets): x += [y_res.clone()]\n",
    "    if (include_lengths): x += [torch.tensor(x_lens), torch.tensor(y_lens)]\n",
    "    if (include_masks): x += [x_res != pad_idx, y_res != pad_idx]\n",
    "    \n",
    "    return x, y_res"
   ]
  },
  {
   "cell_type": "markdown",
   "metadata": {},
   "source": [
    "**Why am I creating a custom DataBunch class?**\n",
    "\n",
    "Because the default class for `TextList` doesn't allow me to override the `collate_fn`.  Everything else pretty much comes right from the framework."
   ]
  },
  {
   "cell_type": "code",
   "execution_count": 12,
   "metadata": {},
   "outputs": [],
   "source": [
    "class Seq2SeqDataBunch(DataBunch):\n",
    "\n",
    "    @classmethod\n",
    "    def create(cls, train_ds, valid_ds, test_ds=None, \n",
    "               path:PathOrStr='.', bs:int=32, val_bs:int=None, pad_idx=1, pad_first=False, dl_tfms=None, \n",
    "               device:torch.device=None, no_check:bool=False, backwards:bool=False, **dl_kwargs) -> DataBunch:\n",
    "        \n",
    "        \"\"\"Function that transform the `datasets` in a `DataBunch` for classification. \n",
    "        Passes `**dl_kwargs` on to `DataLoader()`\"\"\"\n",
    "        \n",
    "        datasets = cls._init_ds(train_ds, valid_ds, test_ds)\n",
    "        val_bs = ifnone(val_bs, bs)\n",
    "        \n",
    "        collate_fn = partial(seq2seq_pad_collate, pad_idx=pad_idx, pad_first=pad_first, backwards=backwards)\n",
    "        \n",
    "        train_sampler = SortishSampler(datasets[0].x, key=lambda t: len(datasets[0][t][0].data), bs=bs//2)\n",
    "        train_dl = DataLoader(datasets[0], batch_size=bs, sampler=train_sampler, drop_last=True, **dl_kwargs)\n",
    "        \n",
    "        dataloaders = [train_dl]\n",
    "        for ds in datasets[1:]:\n",
    "            lengths = [len(t) for t in ds.x.items]\n",
    "            sampler = SortSampler(ds.x, key=lengths.__getitem__)\n",
    "            dataloaders.append(DataLoader(ds, batch_size=val_bs, sampler=sampler, **dl_kwargs))\n",
    "        return cls(*dataloaders, path=path, device=device, dl_tfms=dl_tfms, collate_fn=collate_fn, no_check=no_check)"
   ]
  },
  {
   "cell_type": "markdown",
   "metadata": {},
   "source": [
    "Below is one of the reason I like the DataBlock API.  I can inherit all the goodness form `TextList` while just overriding the `DataBunch` class.  Very nice!"
   ]
  },
  {
   "cell_type": "code",
   "execution_count": 13,
   "metadata": {},
   "outputs": [],
   "source": [
    "class Seq2SeqTextList(TextList):\n",
    "    _bunch = Seq2SeqDataBunch"
   ]
  },
  {
   "cell_type": "markdown",
   "metadata": {},
   "source": [
    "### Build our DataBunch"
   ]
  },
  {
   "cell_type": "code",
   "execution_count": 14,
   "metadata": {},
   "outputs": [],
   "source": [
    "bs = 64\n",
    "val_bs = 128\n",
    "\n",
    "tok_pre_rules = [fix_html, spec_add_spaces, rm_useless_spaces]\n",
    "tok_post_rules = []"
   ]
  },
  {
   "cell_type": "code",
   "execution_count": 15,
   "metadata": {},
   "outputs": [],
   "source": [
    "en_tok = Tokenizer(lang='en', pre_rules=tok_pre_rules, post_rules=tok_post_rules)\n",
    "fr_tok = Tokenizer(lang='fr', pre_rules=tok_pre_rules, post_rules=tok_post_rules)"
   ]
  },
  {
   "cell_type": "code",
   "execution_count": 16,
   "metadata": {},
   "outputs": [],
   "source": [
    "en_procs = [TokenizeProcessor(tokenizer=en_tok, include_bos=True, include_eos=True), \n",
    "            NumericalizeProcessor(min_freq=1)]\n",
    "\n",
    "fr_procs = [TokenizeProcessor(tokenizer=fr_tok,include_bos=False, include_eos=True), \n",
    "            NumericalizeProcessor(min_freq=1)]"
   ]
  },
  {
   "cell_type": "code",
   "execution_count": 17,
   "metadata": {},
   "outputs": [],
   "source": [
    "en_train_il = Seq2SeqTextList.from_df(train_df, path=PATH, cols=['english_text'], processor=en_procs).process()\n",
    "\n",
    "en_valid_il = Seq2SeqTextList.from_df(valid_df, path=PATH, cols=['english_text'], \n",
    "                                      processor=en_train_il.processor).process()"
   ]
  },
  {
   "cell_type": "code",
   "execution_count": 18,
   "metadata": {},
   "outputs": [],
   "source": [
    "fr_train_il = Seq2SeqTextList.from_df(train_df, path=PATH, cols=['french_text'], processor=fr_procs).process()\n",
    "\n",
    "fr_valid_il = Seq2SeqTextList.from_df(valid_df, path=PATH, cols=['french_text'], \n",
    "                                      processor=fr_train_il.processor).process()"
   ]
  },
  {
   "cell_type": "markdown",
   "metadata": {},
   "source": [
    "Remember:  A `LabelList` is a PyTorch `Dataset`"
   ]
  },
  {
   "cell_type": "code",
   "execution_count": 19,
   "metadata": {},
   "outputs": [],
   "source": [
    "trn_ll = LabelList(fr_train_il, en_train_il)\n",
    "val_ll = LabelList(fr_valid_il, en_valid_il)\n",
    "\n",
    "lls = LabelLists(PATH, train=trn_ll, valid=val_ll)"
   ]
  },
  {
   "cell_type": "code",
   "execution_count": 20,
   "metadata": {
    "scrolled": true
   },
   "outputs": [
    {
     "data": {
      "text/plain": [
       "(15972, 15972, 13416, 13416)"
      ]
     },
     "execution_count": 20,
     "metadata": {},
     "output_type": "execute_result"
    }
   ],
   "source": [
    "len(lls.train.x.vocab.itos), len(lls.valid.x.vocab.itos), len(lls.train.y.vocab.itos), len(lls.valid.y.vocab.itos)"
   ]
  },
  {
   "cell_type": "code",
   "execution_count": 21,
   "metadata": {
    "scrolled": false
   },
   "outputs": [
    {
     "data": {
      "text/plain": [
       "Text Quelle est la situation actuelle de la DGRH ? xxeos"
      ]
     },
     "execution_count": 21,
     "metadata": {},
     "output_type": "execute_result"
    }
   ],
   "source": [
    "lls.train.x[0]"
   ]
  },
  {
   "cell_type": "code",
   "execution_count": 22,
   "metadata": {
    "scrolled": true
   },
   "outputs": [
    {
     "data": {
      "text/plain": [
       "Text xxbos What is the current state of affairs in the HRB ? xxeos"
      ]
     },
     "execution_count": 22,
     "metadata": {},
     "output_type": "execute_result"
    }
   ],
   "source": [
    "lls.train.y[0]"
   ]
  },
  {
   "cell_type": "code",
   "execution_count": 23,
   "metadata": {},
   "outputs": [
    {
     "name": "stdout",
     "output_type": "stream",
     "text": [
      "['xxunk', 'xxpad', 'xxbos', 'xxeos', 'xxfld', 'xxmaj', 'xxup', 'xxrep', 'xxwrep', '?']\n",
      "['xxunk', 'xxpad', 'xxbos', 'xxeos', 'xxfld', 'xxmaj', 'xxup', 'xxrep', 'xxwrep', '?']\n"
     ]
    }
   ],
   "source": [
    "print(list(lls.train.x.vocab.itos[:10]))\n",
    "print(list(lls.train.y.vocab.itos[:10]))"
   ]
  },
  {
   "cell_type": "markdown",
   "metadata": {},
   "source": [
    "### Creating a DataBunch via the API"
   ]
  },
  {
   "cell_type": "code",
   "execution_count": 24,
   "metadata": {},
   "outputs": [],
   "source": [
    "data = lls.databunch(bs=bs, val_bs=val_bs)"
   ]
  },
  {
   "cell_type": "code",
   "execution_count": 25,
   "metadata": {
    "scrolled": true
   },
   "outputs": [
    {
     "data": {
      "text/plain": [
       "(torch.Size([64, 57]),\n",
       " torch.Size([64, 25]),\n",
       " torch.Size([64]),\n",
       " torch.Size([64]),\n",
       " torch.Size([64, 57]),\n",
       " torch.Size([64, 25]),\n",
       " torch.Size([64, 25]))"
      ]
     },
     "execution_count": 25,
     "metadata": {},
     "output_type": "execute_result"
    }
   ],
   "source": [
    "b = next(iter(data.train_dl))\n",
    "b[0][0].shape, b[0][1].shape, b[0][2].shape, b[0][3].shape, b[0][4].shape, b[0][5].shape, b[1].shape"
   ]
  },
  {
   "cell_type": "markdown",
   "metadata": {},
   "source": [
    "### Creating DataBunch via DataLoaders"
   ]
  },
  {
   "cell_type": "code",
   "execution_count": null,
   "metadata": {},
   "outputs": [],
   "source": [
    "train_sampler = SortishSampler(lls.train.x, key=lambda t: len(lls.train[t][0].data), bs=bs//2)\n",
    "valid_sampler = SortSampler(lls.valid.x, key=lambda t: len(lls.valid[t][0].data))"
   ]
  },
  {
   "cell_type": "code",
   "execution_count": null,
   "metadata": {},
   "outputs": [],
   "source": [
    "train_dl = DataLoader(lls.train, batch_size=bs, sampler=train_sampler, drop_last=True)\n",
    "valid_dl = DataLoader(lls.valid, batch_size=val_bs, sampler=valid_sampler)"
   ]
  },
  {
   "cell_type": "code",
   "execution_count": null,
   "metadata": {},
   "outputs": [],
   "source": [
    "data = DataBunch(train_dl=train_dl, valid_dl=valid_dl, collate_fn=seq2seq_pad_collate)"
   ]
  },
  {
   "cell_type": "code",
   "execution_count": null,
   "metadata": {},
   "outputs": [],
   "source": [
    "b = next(iter(data.train_dl))\n",
    "b[0][0].shape, b[0][1].shape, b[0][2].shape, b[0][3].shape, b[0][4].shape, b[0][5].shape, b[1].shape"
   ]
  },
  {
   "cell_type": "markdown",
   "metadata": {},
   "source": [
    "## Training time"
   ]
  },
  {
   "cell_type": "code",
   "execution_count": 26,
   "metadata": {},
   "outputs": [],
   "source": [
    "def seq2seq_loss(inputs, targets):\n",
    "    #pdb.set_trace()\n",
    "    src_bs, src_seq_len, nc = inputs.shape\n",
    "    trg_bs, trg_seq_len = targets.shape\n",
    "    \n",
    "    if trg_seq_len > src_seq_len: inputs = F.pad(inputs, (0,0,0,trg_seq_len - src_seq_len, 0,0))\n",
    "\n",
    "    inputs = inputs[:, :trg_seq_len]\n",
    "    return F.cross_entropy(inputs.contiguous().view(-1, nc), targets.contiguous().view(-1))"
   ]
  },
  {
   "cell_type": "code",
   "execution_count": 27,
   "metadata": {},
   "outputs": [],
   "source": [
    "class BasicSeq2SeqRnn(nn.Module):\n",
    "    def __init__(self, src_vocab_sz, src_emb_dim, trg_vocab_sz, trg_emb_dim, n_hidden=256, n_layers=2,\n",
    "                max_trg_sl=255, trg_PAD_tok_idx=1, trg_BOS_tok_idx=2, trg_EOS_tok_idx=3):\n",
    "        super().__init__()\n",
    "        \n",
    "        self.n_layers, self.n_hidden, self.max_trg_sl = n_layers, n_hidden, max_trg_sl\n",
    "        \n",
    "        self.trg_PAD_tok_idx = trg_PAD_tok_idx\n",
    "        self.trg_BOS_tok_idx = trg_BOS_tok_idx\n",
    "        self.trg_EOS_tok_idx = trg_EOS_tok_idx\n",
    "        \n",
    "        # setup the encoder\n",
    "        self.enc_emb = nn.Embedding(src_vocab_sz, src_emb_dim)\n",
    "        self.enc_emb_drop = nn.Dropout(0.15)\n",
    "        self.enc_rnn = nn.GRU(src_emb_dim, n_hidden, num_layers=n_layers, dropout=0.25, \n",
    "                              batch_first=True, bidirectional=True)\n",
    "        self.enc_out = nn.Linear(n_hidden*2, trg_emb_dim, bias=False)\n",
    "        \n",
    "        # setup the decoder\n",
    "        self.dec_emb = nn.Embedding(trg_vocab_sz, trg_emb_dim)\n",
    "        self.dec_rnn = nn.GRU(trg_emb_dim, trg_emb_dim, num_layers=n_layers, dropout=0.1, batch_first=True)\n",
    "        \n",
    "        self.dec_out_drop = nn.Dropout(0.15)\n",
    "        self.dec_out = nn.Linear(trg_emb_dim, trg_vocab_sz, bias=False)\n",
    "        self.dec_out.weight.data = self.dec_emb.weight.data\n",
    "        \n",
    "    def forward(self, inputs, targets=None, \n",
    "                src_lengths=None, trg_lengths=None, src_mask=None, trg_mask=None):\n",
    "        \n",
    "        bs, seq_len = inputs.shape\n",
    "        h = self.init_hidden(bs).to(device=inputs.device)\n",
    "        \n",
    "        enc_emb = self.enc_emb_drop(self.enc_emb(inputs))\n",
    "        enc_outputs, h = self.enc_rnn(enc_emb, h)\n",
    "        h = h.view(2,2,bs,-1).permute(0,2,1,3).contiguous().view(2,bs,-1)\n",
    "        h = self.enc_out(h)\n",
    "        \n",
    "        trg_max_seq = targets.shape[1] if not targets is None else self.max_trg_sl\n",
    "        dec_inp = torch.Tensor(bs).fill_(self.trg_BOS_tok_idx).long().to(device=inputs.device)\n",
    "        \n",
    "        res = []\n",
    "        for i in range(trg_max_seq):\n",
    "            dec_emb = self.dec_emb(dec_inp).unsqueeze(1)\n",
    "            dec_outputs, h = self.dec_rnn(dec_emb, h)\n",
    "            dec_out = self.dec_out(self.dec_out_drop(dec_outputs.squeeze()))\n",
    "            \n",
    "            res.append(dec_out)\n",
    "            dec_inp = dec_out.data.max(1)[1]\n",
    "            \n",
    "            if ((dec_inp == self.trg_PAD_tok_idx).all()): break\n",
    "            if (not targets is None): dec_inp = targets[:, i] \n",
    "                \n",
    "        res = torch.stack(res, dim=1)\n",
    "        return res\n",
    "    \n",
    "    def init_hidden(self, bs):\n",
    "        return torch.zeros(self.n_layers*2, bs, self.n_hidden) # e.g., (2,64,256)\n",
    "    \n",
    "    def reset(self):\n",
    "        pass"
   ]
  },
  {
   "cell_type": "code",
   "execution_count": 28,
   "metadata": {},
   "outputs": [],
   "source": [
    "from torch.nn.utils.rnn import pack_padded_sequence, pad_packed_sequence"
   ]
  },
  {
   "cell_type": "code",
   "execution_count": 29,
   "metadata": {},
   "outputs": [],
   "source": [
    "class AttnSeq2SeqRnn(nn.Module):\n",
    "    def __init__(self, src_vocab_sz, src_emb_dim, trg_vocab_sz, trg_emb_dim, n_hidden=256, n_layers=2,\n",
    "                max_trg_sl=255, trg_PAD_tok_idx=1, trg_BOS_tok_idx=2, trg_EOS_tok_idx=3):\n",
    "        super().__init__()\n",
    "        \n",
    "        self.n_layers, self.n_hidden, self.max_trg_sl = n_layers, n_hidden, max_trg_sl\n",
    "        \n",
    "        self.trg_PAD_tok_idx = trg_PAD_tok_idx\n",
    "        self.trg_BOS_tok_idx = trg_BOS_tok_idx\n",
    "        self.trg_EOS_tok_idx = trg_EOS_tok_idx\n",
    "        \n",
    "        # setup the encoder\n",
    "        self.enc_emb = nn.Embedding(src_vocab_sz, src_emb_dim)\n",
    "        self.enc_emb_drop = nn.Dropout(0.15)\n",
    "        self.enc_rnn = nn.GRU(src_emb_dim, n_hidden, num_layers=n_layers, dropout=0.25, \n",
    "                              batch_first=True, bidirectional=True)\n",
    "        self.enc_out = nn.Linear(n_hidden*2, trg_emb_dim, bias=False)\n",
    "        \n",
    "        # setup the decoder\n",
    "        self.dec_emb = nn.Embedding(trg_vocab_sz, trg_emb_dim)\n",
    "        self.dec_rnn = nn.GRU(trg_emb_dim + 2*n_hidden, trg_emb_dim, num_layers=n_layers, dropout=0.1, \n",
    "                              batch_first=True)\n",
    "        \n",
    "        self.dec_out_drop = nn.Dropout(0.15)\n",
    "        self.dec_out = nn.Linear(trg_emb_dim, trg_vocab_sz, bias=False)\n",
    "        self.dec_out.weight.data = self.dec_emb.weight.data\n",
    "        \n",
    "        # setup attention\n",
    "        self.key_layer = nn.Linear(n_hidden*2, n_hidden, bias=False)\n",
    "        self.query_layer = nn.Linear(trg_emb_dim, n_hidden, bias=False)\n",
    "        self.energy_layer = nn.Linear(n_hidden, 1, bias=False)\n",
    "        \n",
    "    def forward(self, inputs, targets=None, \n",
    "                src_lengths=None, trg_lengths=None, src_mask=None, trg_mask=None, return_attns=False):\n",
    "        \n",
    "        bs, seq_len = inputs.shape\n",
    "        h = self.init_hidden(bs).to(device=inputs.device)\n",
    "        \n",
    "        enc_emb = self.enc_emb_drop(self.enc_emb(inputs))\n",
    "        packed = pack_padded_sequence(enc_emb, src_lengths, batch_first=True)\n",
    "        \n",
    "        enc_outputs, h = self.enc_rnn(packed, h)\n",
    "        enc_outputs, _ = pad_packed_sequence(enc_outputs, batch_first=True)\n",
    "        \n",
    "        h = h.view(self.n_layers,2,bs,-1).permute(0,2,1,3).contiguous().view(self.n_layers,bs,-1)\n",
    "        h = self.enc_out(h)\n",
    "        \n",
    "        trg_max_seq = targets.shape[1] if not targets is None else self.max_trg_sl\n",
    "        dec_inp = torch.Tensor(bs).fill_(self.trg_BOS_tok_idx).long().to(device=inputs.device)\n",
    "        \n",
    "        attn_key = self.key_layer(enc_outputs) # [64, 12, 512] => [64, 12, 256]\n",
    "        \n",
    "        res = []\n",
    "        attns = []\n",
    "        for i in range(trg_max_seq):\n",
    "            dec_emb = self.dec_emb(dec_inp).unsqueeze(1)\n",
    "            \n",
    "            # attn\n",
    "            attn_query = self.query_layer(h[-1].unsqueeze(1)) # [2, 64, 300] => [64, 1, 256]\n",
    "            attn_scores = self.energy_layer(torch.tanh(attn_query + attn_key)) # => [64, 12, 1]\n",
    "            attn_scores = attn_scores.squeeze(2).unsqueeze(1) # => [64, 1, 12]\n",
    "            \n",
    "            attn_scores.masked_fill_(src_mask.unsqueeze(1) == 0, -float('inf'))\n",
    "            \n",
    "            attn_probs = F.softmax(attn_scores, dim=-1)\n",
    "            attns.append(attn_probs.squeeze())\n",
    "            \n",
    "            context = torch.bmm(attn_probs, enc_outputs) # [64, 1, 12] * [64, 12, 512] => [64, 1, 512]\n",
    "            \n",
    "            rnn_inp = torch.cat([dec_emb, context], dim=2)\n",
    "            dec_outputs, h = self.dec_rnn(rnn_inp, h)\n",
    "            dec_out = self.dec_out(self.dec_out_drop(dec_outputs.squeeze()))\n",
    "            \n",
    "            res.append(dec_out)\n",
    "            dec_inp = dec_out.data.max(1)[1]\n",
    "            \n",
    "            if ((dec_inp == self.trg_PAD_tok_idx).all()): break\n",
    "            if (not targets is None): dec_inp = targets[:, i] \n",
    "                \n",
    "        res = torch.stack(res, dim=1)\n",
    "        \n",
    "        if (return_attns): return res, torch.stack(attns, dim=1)\n",
    "        return res\n",
    "    \n",
    "    def init_hidden(self, bs):\n",
    "        return torch.zeros(self.n_layers*2, bs, self.n_hidden) # e.g., (2,64,256)\n",
    "    \n",
    "    def reset(self):\n",
    "        pass"
   ]
  },
  {
   "cell_type": "code",
   "execution_count": 30,
   "metadata": {},
   "outputs": [],
   "source": [
    "nh, nl = 512, 2\n",
    "src_emb_dim, trg_em_dim = 300, 300\n",
    "\n",
    "src_vocab_sz = len(data.valid_ds.x.vocab.itos)\n",
    "trg_vocab_sz = len(data.valid_ds.y.vocab.itos)\n",
    "\n",
    "trg_BOS_idx = data.valid_ds.y.vocab.stoi['xxbos']\n",
    "trg_EOS_idx = data.valid_ds.y.vocab.stoi['xxeos']\n",
    "trg_PAD_idx = data.valid_ds.y.vocab.stoi['xxpad']"
   ]
  },
  {
   "cell_type": "markdown",
   "metadata": {},
   "source": [
    "Another method of implementing \"Teacher Forcing\" via fastai is through callbacks.  I'm not using it here since I created my own `collate_fn` method above, but here's a link to a forum post discussing it for your consideration: [teacher forcing via callbacks](https://forums.fast.ai/t/teacher-forcing/29415/3)."
   ]
  },
  {
   "cell_type": "code",
   "execution_count": 31,
   "metadata": {},
   "outputs": [],
   "source": [
    "# one method to include targets for teacher forcing is to include it via a callback ... we assume the model\n",
    "# has a \"self.targets\" attribute for such use\n",
    "class TeacherForcingCallback(LearnerCallback):\n",
    "    learn:Learner\n",
    "        \n",
    "    def on_batch_begin(self, train, **kwargs):\n",
    "        learn.model.targets = kwargs['last_target']"
   ]
  },
  {
   "cell_type": "code",
   "execution_count": 32,
   "metadata": {},
   "outputs": [],
   "source": [
    "model = AttnSeq2SeqRnn(src_vocab_sz, src_emb_dim, trg_vocab_sz, trg_em_dim, n_hidden=nh, n_layers=nl,\n",
    "                        trg_PAD_tok_idx=trg_PAD_idx, trg_BOS_tok_idx=trg_BOS_idx, trg_EOS_tok_idx=trg_EOS_idx)\n",
    "\n",
    "learn = None, gc.collect()\n",
    "learn = Learner(data, model)\n",
    "learn.loss_func = seq2seq_loss\n",
    "\n",
    "# learn.callbacks.append(TeacherForcingCallback(learn))"
   ]
  },
  {
   "cell_type": "code",
   "execution_count": 33,
   "metadata": {},
   "outputs": [
    {
     "data": {
      "text/html": [],
      "text/plain": [
       "<IPython.core.display.HTML object>"
      ]
     },
     "metadata": {},
     "output_type": "display_data"
    },
    {
     "name": "stdout",
     "output_type": "stream",
     "text": [
      "LR Finder is complete, type {learner_name}.recorder.plot() to see the graph.\n"
     ]
    },
    {
     "data": {
      "image/png": "[encoded data removed]",
      "text/plain": [
       "<Figure size 432x288 with 1 Axes>"
      ]
     },
     "metadata": {
      "needs_background": "light"
     },
     "output_type": "display_data"
    }
   ],
   "source": [
    "learn.lr_find(start_lr=1e-8, end_lr=1e-1)\n",
    "learn.recorder.plot()"
   ]
  },
  {
   "cell_type": "code",
   "execution_count": 34,
   "metadata": {},
   "outputs": [
    {
     "data": {
      "text/html": [
       "Total time: 02:29 <p><table border=\"1\" class=\"dataframe\">\n",
       "  <thead>\n",
       "    <tr style=\"text-align: left;\">\n",
       "      <th>epoch</th>\n",
       "      <th>train_loss</th>\n",
       "      <th>valid_loss</th>\n",
       "      <th>time</th>\n",
       "    </tr>\n",
       "  </thead>\n",
       "  <tbody>\n",
       "    <tr>\n",
       "      <td>0</td>\n",
       "      <td>2.813018</td>\n",
       "      <td>2.588876</td>\n",
       "      <td>00:29</td>\n",
       "    </tr>\n",
       "    <tr>\n",
       "      <td>1</td>\n",
       "      <td>2.380212</td>\n",
       "      <td>2.293590</td>\n",
       "      <td>00:29</td>\n",
       "    </tr>\n",
       "    <tr>\n",
       "      <td>2</td>\n",
       "      <td>2.025493</td>\n",
       "      <td>2.053967</td>\n",
       "      <td>00:29</td>\n",
       "    </tr>\n",
       "    <tr>\n",
       "      <td>3</td>\n",
       "      <td>1.650623</td>\n",
       "      <td>1.910961</td>\n",
       "      <td>00:30</td>\n",
       "    </tr>\n",
       "    <tr>\n",
       "      <td>4</td>\n",
       "      <td>1.307400</td>\n",
       "      <td>1.915408</td>\n",
       "      <td>00:29</td>\n",
       "    </tr>\n",
       "  </tbody>\n",
       "</table>"
      ],
      "text/plain": [
       "<IPython.core.display.HTML object>"
      ]
     },
     "metadata": {},
     "output_type": "display_data"
    }
   ],
   "source": [
    "learn.fit_one_cycle(5, max_lr=3e-3, moms=(0.8,0.99))"
   ]
  },
  {
   "cell_type": "code",
   "execution_count": 35,
   "metadata": {},
   "outputs": [],
   "source": [
    "it = iter(data.valid_dl)"
   ]
  },
  {
   "cell_type": "code",
   "execution_count": 36,
   "metadata": {},
   "outputs": [
    {
     "data": {
      "text/plain": [
       "(torch.Size([128, 30]), torch.Size([128, 26]), torch.Size([128, 26, 13416]))"
      ]
     },
     "execution_count": 36,
     "metadata": {},
     "output_type": "execute_result"
    }
   ],
   "source": [
    "x,y = next(it)\n",
    "learn.model.eval()\n",
    "probs, attns = learn.model(x[0], x[1], x[2], x[3], x[4], x[5], return_attns=True)\n",
    "x[0].shape, y.shape, probs.shape"
   ]
  },
  {
   "cell_type": "code",
   "execution_count": 37,
   "metadata": {},
   "outputs": [
    {
     "data": {
      "text/plain": [
       "torch.Size([128, 26, 30])"
      ]
     },
     "execution_count": 37,
     "metadata": {},
     "output_type": "execute_result"
    }
   ],
   "source": [
    "attns.shape"
   ]
  },
  {
   "cell_type": "code",
   "execution_count": 38,
   "metadata": {},
   "outputs": [
    {
     "data": {
      "text/plain": [
       "torch.Size([128, 26])"
      ]
     },
     "execution_count": 38,
     "metadata": {},
     "output_type": "execute_result"
    }
   ],
   "source": [
    "preds = probs.max(2)[1]\n",
    "preds.shape"
   ]
  },
  {
   "cell_type": "code",
   "execution_count": 39,
   "metadata": {},
   "outputs": [
    {
     "name": "stdout",
     "output_type": "stream",
     "text": [
      "source: Qu' est -ce qui rend la vie agréable à _ _ _ _ _ _ _ _ _ _ _ _ _ _ _ ces jours - ci ? xxeos\n",
      "actual: xxbos What 's good about living in _ _ _ _ _ _ _ _ _ _ these days ? xxeos     \n",
      "pred: xxbos What is in about this in these _ _ _ _ _ _ _ _ _ _ _ _ xxeos     \n",
      "\n",
      "source: Quels   sont   les   deux   signaux   à   bras   uniquement   pour   les   xxunk   à   xxunk   ? xxeos  \n",
      "actual: xxbos Which   2   hand   signals   are   for   xxunk   xxunk   only ? xxeos      \n",
      "pred: xxbos What                     the the ? ? be ? be xxeos      \n",
      "\n",
      "source: Quel est le lien entre : [ nom du répondant ] [ ( xxunk , âge ) ] et : [ nom du répondant ] ? xxeos   \n",
      "actual: xxbos What is the relationship of : [ respondent name ] [ ( Sex , Age ) ] to : [ respondent name ] ? xxeos\n",
      "pred: xxbos What is the name between the the between between of ? ] ] ] and ) of ? the the ? ] ? ? xxeos\n",
      "\n",
      "source: Si le travailleur est debout , l’ objet à soulever xxunk - t - il moins de 23 kg ( 51 xxunk ) ? xxeos     \n",
      "actual: xxbos When standing , is the weight of the object lifted less than 23 kg / 51 xxunk ? xxeos      \n",
      "pred: xxbos What is does does the purpose of a following ( ? ? a ? ? ? ? ? xxeos      \n",
      "\n",
      "source: Qu’ en sera - t - il de ma vie , de nos vies , dans un avenir proche et à long terme ? xxeos     \n",
      "actual: xxbos What will be my life , our lives , in the foreseeable future and in the long term ? xxeos     \n",
      "pred: xxbos What will be our , , in , in in the future and and the a next - ? xxeos     \n",
      "\n",
      "source: Qu' arrive - t - il si l' auteur est sans le xxunk et si j' ai fabriqué le disque pour lui ? xxeos      \n",
      "actual: xxbos What happens if the guy is xxunk or if I manufactured the record for him ? xxeos        \n",
      "pred: xxbos What if if I I is not and not I not ? documents ? the ? xxeos        \n",
      "\n",
      "source: Quand ils ont xxunk l’ école et s’ en vont à l’ université , qu’ est -ce que ça leur donne ? xxeos       \n",
      "actual: xxbos When they leave school and they do go to university , where are they at ? xxeos        \n",
      "pred: xxbos When , , , , what what to ? what ? and ? there ? ? xxeos        \n",
      "\n",
      "source: Quand ils ont xxunk l' école et s' en vont à l' université , qu' est -ce que ça leur donne ? xxeos       \n",
      "actual: xxbos When they leave school and they do go to university , where are they at ? xxeos        \n",
      "pred: xxbos When , , , , what what to ? what ? and ? there ? ? xxeos        \n",
      "\n",
      "source: Quel rôle le thème de la « traçabilité » joue - t - il dans les Etats membres à cet égard ? xxeos       \n",
      "actual: xxbos What role does \" xxunk \" play in this regard in member states ? xxeos          \n",
      "pred: xxbos What role does the play play play in the regard ? the ? ? xxeos          \n",
      "\n",
      "source: Qu' est -ce que c' est que ça vient à voir que ça xxunk 1 000 000 ou 200 000 000 ? xxeos       \n",
      "actual: xxbos What difference does it make whether it xxunk xxunk or xxunk ? xxeos            \n",
      "pred: xxbos What does would it might that or or or and do do xxeos            \n",
      "\n",
      "source: Qu’ a - t - on donné à Horus qui l’ xxunk à la dignité de roi de toute l’ Égypte ? xxeos       \n",
      "actual: xxbos What was Horus given that elevated him to the position of king of all Egypt ? xxeos        \n",
      "pred: xxbos What was the to to the can to find best of the ? the ? ? xxeos        \n",
      "\n",
      "source: Que se passe -t -il dans le cas de mon enfant qui a 25 ans et qui xxunk à temps plein ? xxeos       \n",
      "actual: xxbos What about my child who is 25 and in school full time ? xxeos           \n",
      "pred: xxbos What if my child 's has required year the a ? ? ? xxeos           \n",
      "\n",
      "source: Où est -ce que l' entretien devrait se dérouler ( à la maison , au bureau , dans un café ) ? xxeos       \n",
      "actual: xxbos Where should the interview be held ? xxeos                 \n",
      "pred: xxbos Where should the I be in in xxeos                 \n",
      "\n",
      "source: Que voulez - vous dire par « décomprimer les fichiers » à l' étape d ) de la question 6 ? xxeos        \n",
      "actual: xxbos What do you mean by \" expand the files \" in step d of Question 6 ? xxeos       \n",
      "pred: xxbos What do you mean by \" building \" \" \" of the to \" the ? ? xxeos       \n",
      "\n",
      "source: Qu’ arrive - t - il aux fonds qui sont reçus pour le projet et qui ne sont pas utilisés ? xxeos        \n",
      "actual: xxbos What happens to project funds that are received but not used ? xxeos            \n",
      "pred: xxbos What happens if the if for the people and and and ? xxeos            \n",
      "\n",
      "source: Qu’ est -ce qui est exigé , qu’ est -ce qui est xxunk , qu’ est -ce qui est privilégié ? xxeos        \n",
      "actual: xxbos What is required , what is desired , what is preferred ? xxeos            \n",
      "pred: xxbos What is it , what is the ? for is it ? xxeos            \n",
      "\n",
      "source: Quel pourcentage s' attend à ne pas avoir d' enfants , à en avoir un , deux , ou plus ? xxeos        \n",
      "actual: xxbos What percentage expect to have no children , one child , two children or more than two ? xxeos      \n",
      "pred: xxbos What percentage of of be , a or or or or or or or not groups ? ? xxeos      \n",
      "\n",
      "source: Qu' adviendra - t - il de ma pension de la fonction publique si je n' ai pas de survivants ? xxeos        \n",
      "actual: xxbos What happens to my Public Service Superannuation Pension if I have no survivors ? xxeos          \n",
      "pred: xxbos What will if my my Service if if if you not not documents ? xxeos          \n",
      "\n",
      "source: Comment appelle - t - on ce qu’ on peut voir , qui ressemble à des xxunk ( condensation ) ? xxeos        \n",
      "actual: xxbos What is this appearance of xxunk called ( condensation ) ? xxeos             \n",
      "pred: xxbos What is it ( ( the , , life ) ? xxeos             \n",
      "\n",
      "source: Quand devrait - il être déposé ( après 3 , 5 ou 7 ans ou à d' autres moments ) ? xxeos        \n",
      "actual: xxbos When would it be due ( after 3 / 5 / 7 years ; other ) ? xxeos       \n",
      "pred: xxbos When should you be the to or , , years years years years ? ? ? ? xxeos       \n",
      "\n",
      "source: Qu’ arrive - t - il si j’ oublie quelque chose à bord de l’ avion ou à l’ aéroport ? xxeos        \n",
      "actual: xxbos What if I forget something on the airplane or in the airport ? xxeos           \n",
      "pred: xxbos What happens I am to to the or or the the Canadian ? xxeos           \n",
      "\n",
      "source: Quelle est le véritable sens de xxunk ( « xxunk à bord » ou « fret à bord » ) ? xxeos        \n",
      "actual: xxbos What does xxunk ( for \" free on board \" or \" freight on board \" ) actually mean ? xxeos    \n",
      "pred: xxbos What is the \" \" or or ) \" ) ) \" ) \" the \" ? ? ? ? xxeos    \n",
      "\n",
      "source: Qu’ arrive - t - il si je m’ xxunk , mais que je ne peux pas participer au programme ? xxeos        \n",
      "actual: xxbos What if I register and can not attend ? xxeos               \n",
      "pred: xxbos What if I do to how I participate the xxeos               \n",
      "\n",
      "source: Qu' arrive - t - il à ma pension si je retourne  ",
      " à l' emploi de la fonction publique ? xxeos        \n",
      "actual: xxbos What happens to my pension if I rejoin the Public Service ? xxeos            \n",
      "pred: xxbos What if if my Public if I am from Public Service ? xxeos            \n",
      "\n",
      "source: Qu' arrive - t - il si les enfants ne sont pas assis dans un siège d' xxunk pour enfants ? xxeos        \n",
      "actual: xxbos What is the safest seat for my child ? xxeos               \n",
      "pred: xxbos What if the if if if a children ? xxeos               \n",
      "\n",
      "source: Qu’ arrivera - t - il si le xxunk de l’ Atlantique est ajouté à la liste de la LEP ? xxeos        \n",
      "actual: xxbos What will happen if Atlantic xxunk is added to the SARA List ? xxeos           \n",
      "pred: xxbos What will happen if the Line is added to the SARA List ? xxeos           \n",
      "\n",
      "source: Qu' arrive - t - il si l' affichage ne contient pas les détails et ressemble à ce qui suit ? xxeos        \n",
      "actual: xxbos What happens if there are no details xxunk and your window looks like this ? xxeos         \n",
      "pred: xxbos What happens if the is no most in and the program ? ? ? ? xxeos         \n",
      "\n",
      "source: Qu' est -ce que la carte M / A / N [ M / A / N Map ] ? xxeos         \n",
      "actual: xxbos What is the M / A / xxunk Map ? xxeos              \n",
      "pred: xxbos What is / / / / or or use use xxeos              \n",
      "\n",
      "source: Qu' en serait - il si ce projet de loi traitait non pas des sénateurs , mais des juges ? xxeos         \n",
      "actual: xxbos What if this bill xxunk not of senators , but of judges ? xxeos           \n",
      "pred: xxbos What about the bill is be be the ? if ? the ? xxeos           \n",
      "\n",
      "source: Quel organisme serait le plus apte dans ce rôle , Téléfilm , la CCC , la BDC , EDC ? xxeos         \n",
      "actual: xxbos What agency would make the most sense - Telefilm , CCC , BDC , EDC ? xxeos        \n",
      "pred: xxbos What is do you a more effective of disease in in in in in in ? xxeos        \n",
      "\n",
      "source: Qu' entend - on par « données - échantillon ( 20 % ) » dans le contexte du Recensement ? xxeos         \n",
      "actual: xxbos What does 20 % sample data mean in the Census ? xxeos             \n",
      "pred: xxbos What is a in in in in ? the context of xxeos             \n",
      "\n",
      "source: Que dois - je faire si je n' ai pas accès au site Web de déclaration ( xxunk ) ? xxeos         \n",
      "actual: xxbos What do I do if I can not access the electronic data reporting ( EDR ) web site ? xxeos     \n",
      "pred: xxbos What do I do if I have not have to tax amount ? ? criterion ) ? ? ? xxeos     \n",
      "\n",
      "source: Pourquoi R & D pour la défense Canada donne - t - elle tant de place à la collaboration ? xxeos         \n",
      "actual: xxbos Why does Defence R&D Canada place so much importance on collaboration ? xxeos            \n",
      "pred: xxbos Why did Canada Canada Canada mean to much ? ? ? ? xxeos            \n",
      "\n",
      "source: Qu’ entend - on par « xxunk acceptable d’ études , de formation et / ou d’ expérience » ? xxeos         \n",
      "actual: xxbos What is \" an acceptable combination of education , training and / or experience \" ? xxeos        \n",
      "pred: xxbos What is a training training , , training or or and or or why ? ? xxeos        \n",
      "\n",
      "source: Quels sont les objectifs gÃ © nÃ © xxunk du Canada dans les nÃ © gociations sur l' AGCS ? xxeos         \n",
      "actual: xxbos What are Canada 's objectives in the GATS negotiations ? xxeos              \n",
      "pred: xxbos What are the objectives objectives for the application ? ? xxeos              \n",
      "\n",
      "source: Qu’ a - t - il besoin d’ apprendre pour être capable d’ utiliser la langue à ces fins ? xxeos         \n",
      "actual: xxbos What will they need to learn in order to [ do what they want ] ? xxeos        \n",
      "pred: xxbos What do be need to be to the to be these ] ] ] to ? xxeos        \n",
      "\n",
      "source: Que peut - il arriver à une tortue luth si elle mange un ballon ou un sac d' épicerie ? xxeos         \n",
      "actual: xxbos What can happen to a leatherback turtle if it eats a balloon or a grocery bag ? xxeos       \n",
      "pred: xxbos What if be if a if if if a is or priority or priority priority ? ? xxeos       \n",
      "\n",
      "source: Quel rôle l’ enseignant se donne - t - il dans la mise en œuvre d’ une telle démarche ? xxeos         \n",
      "actual: xxbos What is the teacher ’s role in pursuing such aims ? xxeos             \n",
      "pred: xxbos What role the role of role in the ? a ? xxeos             \n",
      "\n",
      "source: < B > xxunk : < / B > Quand le service CASCADE sera - t - il disponible ? xxeos         \n",
      "actual: xxbos When will the CASCADE service be available ? xxeos                \n",
      "pred: xxbos What will the new be be available ? xxeos                \n",
      "\n",
      "source: Qu' en pensez - vous et comment le Canada contribuera - t - il au renouvellement de l' OTAN ? xxeos         \n",
      "actual: xxbos What are your views on this and how will Canada contribute to NATO 's renewal ? xxeos        \n",
      "pred: xxbos What is the opinion on the and how do they be to the ? ? ? xxeos        \n",
      "\n",
      "source: Pourquoi le père pense - t - il que Jimmy est xxunk quand l’ ours entre dans leur camp ? xxeos         \n",
      "actual: xxbos Why does Father think Jimmy is xxunk when the bear enters their camp ? xxeos          \n",
      "pred: xxbos Why does the when the in the in I EU ? ? ? ? xxeos          \n",
      "\n",
      "source: En quoi l' emploi s' est - il accru au sein du groupe cible par rapport au groupe témoin ? xxeos         \n",
      "actual: xxbos What is the increase in employment of the target group compared to the control group ? xxeos        \n",
      "pred: xxbos What is the group for the for the group group in in the exhibition ? ? xxeos        \n",
      "\n",
      "source: À qui dois - je m' adresser si j' ai une plainte en matière de droits de la personne ? xxeos         \n",
      "actual: xxbos Who should I contact if I have a human rights complaint ? xxeos            \n",
      "pred: xxbos Who do I contact if I have a person rights ? ? xxeos            \n",
      "\n",
      "source: À titre d’ xxunk , d’ un point de vue éthique , que diriez - vous à ces gens ? xxeos         \n",
      "actual: xxbos Who do you think is right ? xxeos                 \n",
      "pred: xxbos What do you think of a to xxeos                 \n",
      "\n",
      "source: Que se passe -t -il quand le père boit Quels sont les effets de l' alcool sur le fœtus ? xxeos         \n",
      "actual: xxbos What Happens When the Father Drinks ? xxeos                 \n",
      "pred: xxbos What happens when the shall of the xxeos                 \n",
      "\n",
      "source: • Le profil Bath : qu' est -ce que c' est et pourquoi devrais - je m' y intéresser ? xxeos         \n",
      "actual: xxbos What is it and why should I care ? xxeos               \n",
      "pred: xxbos What are the , why is I be ? xxeos               \n",
      "\n",
      "source: Qu’ arrive - t - il si je ne xxunk pas ma décision d’ ici le 1er décembre 2005 ? xxeos         \n",
      "actual: xxbos What happens if I do n’t submit my decision by December 1 , 2005 ? xxeos         \n",
      "pred: xxbos What happens if I do n't find my options ? the ? ? ? ? xxeos         \n",
      "\n",
      "source: Que risque - t - il d’ arriver si on a pas pris soin de xxunk les droits ? xxeos          \n",
      "actual: xxbos What might the consequences of not clearing rights be ? xxeos              \n",
      "pred: xxbos What happens happen general if all if if if if xxeos              \n",
      "\n",
      "source: Par exemple , sous quel angle abordera - t - on la question des arts dans cette étude ? xxeos          \n",
      "actual: xxbos Where , for instance , do the arts xxunk into the study ? xxeos           \n",
      "pred: xxbos Where , in the , is you engagement , I the new ? xxeos           \n",
      "\n",
      "source: Qu’ est -ce qui en est la cause ( manque de chercheurs , manque de fonds … ) ? xxeos          \n",
      "actual: xxbos Why ? xxeos                      \n",
      "pred: xxbos What is xxeos                      \n",
      "\n",
      "source: Pourquoi l' ARC ne m' a - t - elle pas envoyé mon remboursement de TPS / TVH ? xxeos          \n",
      "actual: xxbos Why is the CRA holding my GST / HST refund ? xxeos             \n",
      "pred: xxbos Why does the GST GST GST GST / HST credit ? xxeos             \n",
      "\n",
      "source: Qu' arrive - t - il à la rupture d' un mariage ou d' une union de fait ? xxeos          \n",
      "actual: xxbos What would happen if there was a breakdown of a marriage or a common - law partnership ? xxeos      \n",
      "pred: xxbos What happens happen if a is a permit or a joint or a Corporate ? Corporate ? ? xxeos      \n",
      "\n",
      "source: Que voulons - nous réaliser , à long terme , en ce qui concerne la gestion des pêches ? xxeos          \n",
      "actual: xxbos What do we want to achieve in fisheries management over the long term ? xxeos          \n",
      "pred: xxbos What do we want to know in the , of the next - ? xxeos          \n",
      "\n",
      "source: Qu' arrive t il si ma banque n' est pas disposée à m' offrir un fonds de roulement ? xxeos          \n",
      "actual: xxbos What if my bank is not willing to provide Working Capital ? xxeos            \n",
      "pred: xxbos What happens my child is not a to be a ? ? xxeos            \n",
      "\n",
      "source: Quelle expérience a -t -on du travail et de la vie dans les sites de mise en oeuvre ? xxeos          \n",
      "actual: xxbos What is the experience of working and living at the implementation sites ? xxeos           \n",
      "pred: xxbos What was the difference and the and the in the time of ? xxeos           \n",
      "\n",
      "source: Que va - t - il se passer quand j' arrête ou je xxunk l' usage du tabac ? xxeos          \n",
      "actual: xxbos What 's going to happen when I quit or cut back ? xxeos            \n",
      "pred: xxbos What happens when when happen when I do ? capture ? ? xxeos            \n",
      "\n",
      "source: Qu’ est -ce qui aurait pu être fait durant l’ évaluation pour vous mettre plus à l’ aise ? xxeos          \n",
      "actual: xxbos What could have been done in the evaluation to make it more comfortable for you ? xxeos        \n",
      "pred: xxbos What would have been done to this most ? address the ? ? ? ? ? xxeos        \n",
      "\n",
      "source: Pourquoi est -ce entre 1997 et 2003 que le coût des soins de santé a augmenté le plus ? xxeos          \n",
      "actual: xxbos Why the larger increase in health care costs between 1997 and 2003 ? xxeos           \n",
      "pred: xxbos Why is the - - the care and ? the and the ? xxeos           \n",
      "\n",
      "source: Quels sont les pays qui ont adhéré à l’ UE depuis la création de la xxunk en 1998 ? xxeos          \n",
      "actual: xxbos Which countries have joined the EU since the ECB was established in 1998 ? xxeos          \n",
      "pred: xxbos Which countries have been the EU in the EU of ? ? the ? xxeos          \n",
      "\n",
      "source: Qui dÃ © termine qu' une espÃ¨ce est Â « en pÃ © ril Â » au Canada ? xxeos          \n",
      "actual: xxbos Who decides which species are \" at risk \" in Canada ? xxeos            \n",
      "pred: xxbos Who is a a in in in risk \" ? the ? xxeos            \n",
      "\n",
      "source: Pourquoi ces policiers étaient - ils présents dans le « fer à cheval » cette soirée - là ? xxeos          \n",
      "actual: xxbos Why were these police officers present at the \" horseshoe \" on that evening ? xxeos         \n",
      "pred: xxbos Why were these \" that that in the present present \" ? the ? ? xxeos         \n",
      "\n",
      "source: Qu' est -ce que les xxunk aux doigts du roi xxunk xxunk ont à voir avec les trains ? xxeos          \n",
      "actual: xxbos What do King xxunk xxunk 's xxunk xxunk have to do with trains ? xxeos          \n",
      "pred: xxbos What do the have with have production with be been be with the ? xxeos          \n",
      "\n",
      "source: Quelle idée , opinion ou point de vue cette chanson exprime - t - elle sur cette question ? xxeos          \n",
      "actual: xxbos What insight , opinion or point of view does the song express about this issue ? xxeos        \n",
      "pred: xxbos What opinion , opinion , opinion of the does this Commission have about this issue ? xxeos        \n",
      "\n",
      "source: Et dans l' ensemble , quelle opinion croyez - vous qu' elle avait de l' xxunk - maître ? xxeos          \n",
      "actual: xxbos What do you think over - all , what her opinion was of the xxunk ? xxeos        \n",
      "pred: xxbos What about you think about the the the in was ’s of the the best use xxeos        \n",
      "\n",
      "source: Que s’ est il passé au cours de ces sept années et xxunk pour que cela se produise ? xxeos          \n",
      "actual: xxbos What occurred in those 7 - 1 / 2 years to let this happen ? xxeos         \n",
      "pred: xxbos What happened do this have and these and these and ? this ? ? ? xxeos         \n",
      "\n",
      "source: Que faut - il faire en cas de contact xxunk direct avec des xxunk à base de BPC ? xxeos          \n",
      "actual: xxbos What would happen if I accidentally came into direct contact with a PCB fluid ? xxeos         \n",
      "pred: xxbos What if be to I do to to the a ? the risk Weather ? xxeos         \n",
      "\n",
      "source: Pour quelles raisons utilise - t - on ce terme plutôt que celui d ' « égalité » ? xxeos          \n",
      "actual: xxbos What is the reason for the use of the concept of \" equity \" rather than of \" equality \" ? xxeos   \n",
      "pred: xxbos What is the term for the key of the \" of the not \" ? ? the the under \" ? xxeos   \n",
      "\n",
      "source: Qu' arrive - il si je ne xxunk pas d' alcool , de drogues ou d' autres substances ? xxeos          \n",
      "actual: xxbos What if I do n't use alcohol or illicit drugs ? xxeos             \n",
      "pred: xxbos What if I do n't have or or a ? ? xxeos             \n",
      "\n",
      "source: xxunk , pourquoi as - tu de longues xxunk et une grosse bosse de muscles sur le dos ? xxeos          \n",
      "actual: xxbos Why do xxunk have such big xxunk and xxunk xxunk muscles ? xxeos            \n",
      "pred: xxbos What do you you you a and and why institutions be ? xxeos            \n",
      "\n",
      "source: A -t -on élaboré un plan pour les biens essentiels à la mission ayant un cycle de vie ? xxeos          \n",
      "actual: xxbos What progress has been made to identify these assets and their operational cost ? xxeos          \n",
      "pred: xxbos What is are been made to date - ? ? how country ? ? xxeos          \n",
      "\n",
      "source: Comment faire si je perds ou si j' oublie mon numéro d' xxunk et mon mot de passe ? xxeos          \n",
      "actual: xxbos What if I forget or xxunk my User ID and password ? xxeos            \n",
      "pred: xxbos What if I do my my my child ? ? my ? xxeos            \n",
      "\n",
      "source: Pourquoi recueille - t - on si peu d' information sur les enfants de moins de 15 ans ? xxeos          \n",
      "actual: xxbos Why is there so little information collected about people under 15 ? xxeos            \n",
      "pred: xxbos Why are Information so information Information on ? children ? the - xxeos            \n",
      "\n",
      "source: Sommes - nous capables - en tant qu' êtres humains - de vivre en paix avec les autres ? xxeos          \n",
      "actual: xxbos What does it mean to live in xxunk with nature ? xxeos             \n",
      "pred: xxbos What are it do to be in the other a of xxeos             \n",
      "\n",
      "source: Quelle a Ã © tÃ © la dÃ © xxunk du Tribunal du commerce international Ã ce sujet ? xxeos          \n",
      "actual: xxbos What was the CIT ’s ruling on this ? xxeos               \n",
      "pred: xxbos What was the last of last of this issue xxeos               \n",
      "\n",
      "source: Comment cela xxunk - t - il la capacité de l’ océan à agir comme puits de xxunk ? xxeos          \n",
      "actual: xxbos Which plankton species are at risk ? xxeos                 \n",
      "pred: xxbos What is is is to risk of xxeos                 \n",
      "\n",
      "source: Pourquoi ne pas , d' entrée de jeu , soumettre de bons projets de lois à la Chambre ? xxeos          \n",
      "actual: xxbos Why not just bring good legislation to the House in the first place ? xxeos          \n",
      "pred: xxbos Why not human human to to to the old of the safety of ? xxeos          \n",
      "\n",
      "source: Par le choix de ces couleurs , sur quoi l' artiste a -t -il voulu mettre l' accent ? xxeos          \n",
      "actual: xxbos What has been emphasized using these colours ? xxeos                \n",
      "pred: xxbos What is been the on the on ? xxeos                \n",
      "\n",
      "source: Quel est le nombre total de personnes de 0 à 14 ans , de sexes masculin et féminin ? xxeos          \n",
      "actual: xxbos What is the total number of males and females 15–19 years of age ? xxeos          \n",
      "pred: xxbos What is the total total of age and age years years ? age ? xxeos          \n",
      "\n",
      "source: Que peut - on et doit - on faire en premier lieu pour éviter le problème des réfugiés ? xxeos          \n",
      "actual: xxbos What can and should be done to stop people becoming refugees in the first place ? xxeos        \n",
      "pred: xxbos What can be do be done to avoid the with the ? the next place ? xxeos        \n",
      "\n",
      "source: Selon vous , quel impact le xxunk a -t -il sur l' industrie du porc au Manitoba ? xxeos           \n",
      "actual: xxbos What do you see as the impact of xxunk on the xxunk industry in Manitoba ? xxeos        \n",
      "pred: xxbos What do you see as the impact on the on the term program ? the ? xxeos        \n",
      "\n",
      "source: Qu’ arrivera - t - il si le gouvernement ne change pas pendant que la population change ? xxeos           \n",
      "actual: xxbos What will happen if government does not change while the population does ? xxeos           \n",
      "pred: xxbos What will happen if the do not change in the population ? not xxeos           \n",
      "\n",
      "source: Avez - vous d’ autres idées qui pourraient nous aider à mieux utiliser le budget du DPP ? xxeos           \n",
      "actual: xxbos What other ideas do you have to make maximum use of the PLR budget ? xxeos         \n",
      "pred: xxbos What other ideas do you have to use the use of the budget budget ? xxeos         \n",
      "\n",
      "source: Qu’ est‑ce qui est exigé , qu’ est‑ce qui est xxunk , qu’ est‑ce qui est privilégié ? xxeos           \n",
      "actual: xxbos What is required , what is desired , what is preferred ? xxeos            \n",
      "pred: xxbos What is the to if is the ? if is the ? xxeos            \n",
      "\n",
      "source: Quel est le rôle du CCI s' il n' y a pas de décision financière à prendre ? xxeos           \n",
      "actual: xxbos What is the role of the IAB if there are no funding decisions to be made ? xxeos       \n",
      "pred: xxbos What is the role of the program that I is not decision ? ? the ? ? xxeos       \n",
      "\n",
      "source: Quand les régimes enregistrés d' épargne - retraite ( REER ) doivent - ils venir à échéance ? xxeos           \n",
      "actual: xxbos When do you have to mature your registered retirement savings plan ( RRSP ) ? xxeos         \n",
      "pred: xxbos When do the think to pay a GATS ? ? ? ? up ) ? xxeos         \n",
      "\n",
      "source: Où se trouve mon « revenu total » selon la ligne 150 de ma déclaration de revenus ? xxeos           \n",
      "actual: xxbos Where do I find the \" total income \" amount I reported on line 150 of my tax return ? xxeos    \n",
      "pred: xxbos Where do I find my income my \" \" amount \" entered to my ? ? my tax return ? xxeos    \n",
      "\n",
      "source: Que se passe -t -il si vous avez produit le formulaire xxunk ou xxunk ( xxunk ) ? xxeos           \n",
      "actual: xxbos What if you filed Form xxunk or xxunk ( Seniors ) ? xxeos            \n",
      "pred: xxbos What happens you have the had profit profit I jeopardy ) ? xxeos            \n",
      "\n",
      "source: Pourquoi la banque n’ a - t - elle pas retenu assez d’ impôt à la source ? xxeos           \n",
      "actual: xxbos Why did the bank not withhold enough tax ? xxeos               \n",
      "pred: xxbos Why does n’t not not not the ? ? xxeos               \n",
      "\n",
      "source: Pourquoi la banque n' a - t - elle pas retenu assez d' impôt à la source ? xxeos           \n",
      "actual: xxbos Why did the bank not withhold enough tax ? xxeos               \n",
      "pred: xxbos Why does n't not not take the to ? xxeos               \n",
      "\n",
      "source: Qu’ est -ce qui a bien marché et qu’ est -ce qui n’ a pas bien marché ? xxeos           \n",
      "actual: xxbos What has worked well , what has n’t worked well ? xxeos             \n",
      "pred: xxbos What has been had ? what is been been and ? xxeos             \n",
      "\n",
      "source: Quel est le nom du ( ou des ) xxunk ) que vous preniez à cette époque ? xxeos           \n",
      "actual: xxbos What was the name of the medicine ( s ) you were taking at that time ? xxeos       \n",
      "pred: xxbos What is the name of the name - or ) or that that this this , ? xxeos       \n",
      "\n",
      "source: Pourquoi le mercure représente - t - il un danger pour la santé et pour l' environnement ? xxeos           \n",
      "actual: xxbos Why is mercury considered a health and environmental problem ? xxeos              \n",
      "pred: xxbos Why is the a for health and how project ? xxeos              \n",
      "\n",
      "source: Qu' est -ce que le thimérosal et pourquoi l' utilise - t - on dans les vaccins ? xxeos           \n",
      "actual: xxbos What is thimerosal and why is it used in vaccines ? xxeos             \n",
      "pred: xxbos What is self and why is it used ? ? ? xxeos             \n",
      "\n",
      "source: Quel sera le volume ou la charge de travail ( W ) de la salle de radiographie ? xxeos           \n",
      "actual: xxbos What will be / is the workload ( xxunk ) of the x - ray unit ? xxeos       \n",
      "pred: xxbos What will the the ( the appropriate of placement ) ? the Program ? use ? ? xxeos       \n",
      "\n",
      "source: Quels changements ou xxunk ( s’ il y a lieu ) ont été apportés à vos activités ? xxeos           \n",
      "actual: xxbos What changes or course xxunk , if any , have been made to your activities ? xxeos        \n",
      "pred: xxbos What changes has made has you if any , would been made to improve change ? xxeos        \n",
      "\n",
      "source: À qui demanderez - vous de l’ aide et quel type d’ aide pouvez - vous demander ? xxeos           \n",
      "actual: xxbos Who will you ask for help and what type of help can you ask for ? xxeos        \n",
      "pred: xxbos Who can you ask for help and what type of help ? you ask ? ? xxeos        \n",
      "\n",
      "source: Que leur demanderez - vous de faire : vous distraire , vous encourager , faire une marche ? xxeos           \n",
      "actual: xxbos What will you ask them to do - distract you , encourage you , go for a walk ? xxeos     \n",
      "pred: xxbos What do you do to to do that what - ? in ? ? in ? ? ? ? xxeos     \n",
      "\n",
      "source: Comment expliquer qu' il y ait eu autant de crises d' endettement en si peu de temps ? xxeos           \n",
      "actual: xxbos Why have there been so many debt crises in such a short time ? xxeos          \n",
      "pred: xxbos What is there so so many audits ? ? the a situation - ? xxeos          \n",
      "\n",
      "source: Que se passera - t - il si je ne peux pas trouver d’ endroit où aller ? xxeos           \n",
      "actual: xxbos What if I ca n’t make it xxunk ? xxeos               \n",
      "pred: xxbos What happens I do n't find the ? ? xxeos               \n",
      "\n",
      "source: Quels sont les symptômes de la MCJ xxunk et comment la maladie évolue - t - elle ? xxeos           \n",
      "actual: xxbos What are the symptoms and disease course of xxunk CJD ? xxeos             \n",
      "pred: xxbos What are the symptoms of how of of the infection and xxeos             \n",
      "\n",
      "source: Quels effets la marihuana peut - elle avoir sur la santé ( Santé Canada , 1998 ) ? xxeos           \n",
      "actual: xxbos What are the potential health effects of marijuana ( Health Canada , 1998 ) ? xxeos         \n",
      "pred: xxbos What can the health health effects of Health ( Health Canada ) and , ? xxeos         \n",
      "\n",
      "source: Qu' est -ce qui fait en sorte qu' un virus de l' influenza de type A change ? xxeos           \n",
      "actual: xxbos What causes an influenza A virus to change ? xxeos               \n",
      "pred: xxbos What is of influenza virus or ? be ? xxeos               \n",
      "\n",
      "source: Pourquoi le Canada a -t -il prescrit une mise à jour de la Loi sur la quarantaine ? xxeos           \n",
      "actual: xxbos Why did Canada xxunk an updated xxunk Act ? xxeos               \n",
      "pred: xxbos Why has Canada have the Yukon illegal illegal ? xxeos               \n",
      "\n",
      "source: Qu’ arrivera - t - il si je ne prends pas tous mes médicaments contre la tuberculose ? xxeos           \n",
      "actual: xxbos What if I do n’t take all my TB drugs ? xxeos             \n",
      "pred: xxbos What if I do n’t become my of reason ? ? xxeos             \n",
      "\n",
      "source: Qu’ arrive - t - il si une personne n’ xxunk pas à une ou plusieurs séances ? xxeos           \n",
      "actual: xxbos What if a person does not attend a session(s ) ? xxeos             \n",
      "pred: xxbos What happens a person is n’t or a or or ? xxeos             \n",
      "\n",
      "source: • Que pourrait - il se produire si la xxunk d’ une personne au volant s’ xxunk ? xxeos           \n",
      "actual: xxbos What might happen if a driver of a car had his or her xxunk \" fall xxunk \" ? xxeos     \n",
      "pred: xxbos What if the if the person is the person - ? ? a ? ? ? ? ? ? xxeos     \n",
      "\n",
      "source: Que faire si je n' ai pas d' ordonnance du tribunal ou d' accord écrit entre conjoints ? xxeos           \n",
      "actual: xxbos What if I do not have a court order or written spousal agreement ? xxeos          \n",
      "pred: xxbos What if I do n't or with common or or organization ? ? ? xxeos          \n",
      "\n",
      "source: Qu’ est -ce que ces arts vous disent sur la culture des auteurs qui les ont créés ? xxeos           \n",
      "actual: xxbos What do these arts tell you about the culture of the xxunk who created them ? xxeos        \n",
      "pred: xxbos What do you you have you about the culture of the stakeholders Resource From ? ? xxeos        \n",
      "\n",
      "source: Qu’ advient - il si les taxes ne sont pas payées ou ne sont pas xxunk payées ? xxeos           \n",
      "actual: xxbos What happens if the fees are not paid or not paid in full ? xxeos          \n",
      "pred: xxbos What if if the are are not available or the ? ? the - xxeos          \n",
      "\n",
      "source: Où retrouve t on cette observation dans le Rapport sur l’ état du parc ou au forum ? xxeos           \n",
      "actual: xxbos Where is this in the State of the Park Report or at the Forum ? xxeos         \n",
      "pred: xxbos Where does the located the status for the public or for international the following of xxeos         \n",
      "\n",
      "source: Dans ce cas , qui d' autre que la Syrie et l' Iran en xxunk les bénéfices ? xxeos           \n",
      "actual: xxbos Who but Syria and Iran would benefit from that ? xxeos              \n",
      "pred: xxbos Who else place in what in it from the ? xxeos              \n",
      "\n",
      "source: Qui décide désormais de ce qui est xxunk et de ce qui est illicite dans l' xxunk ? xxeos           \n",
      "actual: xxbos Who now decides what is legitimate and what is illicit in Islam ? xxeos           \n",
      "pred: xxbos Who decides in this is this and what is this ? the ? xxeos           \n",
      "\n",
      "source: Que pouvez - vous faire d' autre pour vos clients que la concurrence ne fait pas déjà ? xxeos           \n",
      "actual: xxbos What can you do for your customers that your competition is n't already doing ? xxeos         \n",
      "pred: xxbos What else you do to your retain do you lives is there ? ? ? xxeos         \n",
      "\n",
      "source: Pour quelle raison la glace a -t -elle commencé à xxunk il y a 21 000 ans ? xxeos           \n",
      "actual: xxbos Why did the ice begin to xxunk away xxunk years ago ? xxeos            \n",
      "pred: xxbos Why has the patient did years obtain live ? ? ? ? xxeos            \n",
      "\n",
      "source: Quel est le rôle du Centre des opérations du gouvernement ( COG ) lors d’ une urgence ? xxeos           \n",
      "actual: xxbos What is the role of the Government Operations Centre ( GOC ) during an emergency ? xxeos        \n",
      "pred: xxbos What is the role of the government of ( ( government ) ? the project ? xxeos        \n",
      "\n",
      "source: Qu' arrivera - t - il à ceux qui xxunk une loi quelconque relative à la chasse ? xxeos           \n",
      "actual: xxbos What will happen to me if I break any of the hunting laws ? xxeos          \n",
      "pred: xxbos What will happen to the to the make the the the EU ? ? xxeos          \n",
      "\n",
      "source: Qu' est -ce que le Programme d' aide aux xxunk victimes de la sécheresse ( xxunk ) ? xxeos           \n",
      "actual: xxbos What is the xxunk xxunk Assistance Program ( xxunk ) ? xxeos             \n",
      "pred: xxbos What is the National Program Program Program ( burden ) ? xxeos             \n",
      "\n",
      "source: Qu' en est-il de l' importation ou de l' exportation des BPC en vue de leur élimination ? xxeos           \n",
      "actual: xxbos What about importing or exporting PCBs for disposal ? xxeos               \n",
      "pred: xxbos What about the that company ? ? ? ? xxeos               \n",
      "\n",
      "source: xxunk xxunk Que faire si on n' arrive plus à accéder à un dossier pour le modifier ? xxeos           \n",
      "actual: xxbos What do I do if I can no longer access a xxunk to change it ? xxeos        \n",
      "pred: xxbos What can I do if I need n't a - to Agency to be ? ? xxeos        \n",
      "\n"
     ]
    },
    {
     "name": "stdout",
     "output_type": "stream",
     "text": [
      "source: Que se produit - il si la technologie n' est pas disponible ou n' est pas adoptée ? xxeos           \n",
      "actual: xxbos What happens if the technology is not available or implemented ? xxeos             \n",
      "pred: xxbos What if if the is is not available or the ? xxeos             \n",
      "\n",
      "source: Pourquoi envoyer de l’ argent à Bruxelles , pour qu’ il nous soit xxunk par la suite ? xxeos           \n",
      "actual: xxbos Why send the money to xxunk , and then get it back again ? xxeos          \n",
      "pred: xxbos Why are the future , we we what what ? the ? ? ? xxeos          \n",
      "\n",
      "source: Pourquoi l' information météorologique n' a - t - elle pas été mise à jour xxunk xxunk ? xxeos           \n",
      "actual: xxbos Why has n't the weather information been updated xxunk xxunk ? xxeos             \n",
      "pred: xxbos Why was n’t been information been been made ? ? ? xxeos             \n",
      "\n",
      "source: Et xxunk tout , pourquoi ´ ` ` ´ ´ ˆ mettre la province a l’ xxunk ? xxeos           \n",
      "actual: xxbos Why are they xxunk the province anyway ? xxeos                \n",
      "pred: xxbos Why , the the , parties ? ? xxeos                \n",
      "\n",
      "source: Que dois - je faire si j’ ai plus de poissons que ma limite quotidienne à bord ? xxeos           \n",
      "actual: xxbos What must I do if I have more than my daily limit on board ? xxeos         \n",
      "pred: xxbos What do I do if I need to than my project project ? a ? xxeos         \n",
      "\n",
      "source: L’ absence de guerre signifie - t - elle que nous sommes en paix avec les autres ? xxeos           \n",
      "actual: xxbos What does it mean to live in xxunk with nature ? xxeos             \n",
      "pred: xxbos What does it mean to be in the ? the ? xxeos             \n",
      "\n",
      "source: Que faudra - t - il pour les intégrer à l’ équipe de collaboration en santé mentale ? xxeos           \n",
      "actual: xxbos What will it take to include them in the collaborative mental health team ? xxeos          \n",
      "pred: xxbos What does happen take to be in in the next of health ? ? xxeos          \n",
      "\n",
      "source: Qu’ est -ce qu’ une étude des systèmes d’ emploi et que comprend - t - elle ? xxeos           \n",
      "actual: xxbos What is an employment systems review and what does it entail ? xxeos            \n",
      "pred: xxbos What is a geographical and and and what is it like ? xxeos            \n",
      "\n",
      "source: Quel genre d’ amende dois - je payer si on me surprend à boire de la bière ? xxeos           \n",
      "actual: xxbos What kind of fine would be given if I am caught with a bottle of beer ? xxeos       \n",
      "pred: xxbos What do of I do I paid to I were in ? the visa ? the ? xxeos       \n",
      "\n"
     ]
    }
   ],
   "source": [
    "en_vocab = learn.data.valid_ds.y.vocab\n",
    "fr_vocab = learn.data.valid_ds.x.vocab\n",
    "\n",
    "for i in range(preds.shape[0]):\n",
    "    print(f'source: {fr_vocab.textify(x[0][i]).replace(\"xxpad\", \"\")}')\n",
    "    print(f'actual: {en_vocab.textify(y[i]).replace(\"xxpad\", \"\")}')\n",
    "    print(f'pred: {en_vocab.textify(preds[i]).replace(\"xxpad\", \"\")}\\n')"
   ]
  },
  {
   "cell_type": "code",
   "execution_count": 40,
   "metadata": {},
   "outputs": [],
   "source": [
    "def plot_attns(src, trg, scores):\n",
    "    fig, ax = plt.subplots()\n",
    "    heatmap = ax.pcolor(scores, cmap='viridis')\n",
    "    \n",
    "    ax.set_xticklabels(trg, minor=False, rotation='vertical')\n",
    "    ax.set_yticklabels(src, minor=False)\n",
    "    \n",
    "    # put the major ticks at the middel of each cell and the x-ticks on top\n",
    "    ax.xaxis.tick_top()\n",
    "    ax.set_xticks(np.arange(scores.shape[1]) + 0.5, minor=False)\n",
    "    ax.set_yticks(np.arange(scores.shape[0]) + 0.5, minor=False)\n",
    "    ax.invert_yaxis()\n",
    "    \n",
    "    plt.colorbar(heatmap)\n",
    "    plt.show()"
   ]
  },
  {
   "cell_type": "code",
   "execution_count": 41,
   "metadata": {},
   "outputs": [
    {
     "data": {
      "image/png": "[encoded data removed]",
      "text/plain": [
       "<Figure size 432x288 with 2 Axes>"
      ]
     },
     "metadata": {
      "needs_background": "light"
     },
     "output_type": "display_data"
    }
   ],
   "source": [
    "idx = 5\n",
    "src = [ fr_vocab.itos[i] for i in x[0][idx] ]\n",
    "trg = [ en_vocab.itos[i] for i in preds[idx] ]\n",
    "\n",
    "plot_attns(src[:15], trg[:15], attns[idx,:15,:15])"
   ]
  },
  {
   "cell_type": "code",
   "execution_count": null,
   "metadata": {},
   "outputs": [],
   "source": []
  },
  {
   "cell_type": "code",
   "execution_count": null,
   "metadata": {},
   "outputs": [],
   "source": []
  }
 ],
 "metadata": {
  "kernelspec": {
   "display_name": "Python 3",
   "language": "python",
   "name": "python3"
  },
  "language_info": {
   "codemirror_mode": {
    "name": "ipython",
    "version": 3
   },
   "file_extension": ".py",
   "mimetype": "text/x-python",
   "name": "python",
   "nbconvert_exporter": "python",
   "pygments_lexer": "ipython3",
   "version": "3.7.2"
  }
 },
 "nbformat": 4,
 "nbformat_minor": 2
}
